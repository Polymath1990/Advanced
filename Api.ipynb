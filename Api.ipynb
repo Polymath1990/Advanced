{
 "cells": [
  {
   "cell_type": "code",
   "execution_count": 36,
   "id": "e85ec6be",
   "metadata": {},
   "outputs": [],
   "source": [
    "import numpy as np"
   ]
  },
  {
   "cell_type": "code",
   "execution_count": 37,
   "id": "b9056487",
   "metadata": {},
   "outputs": [],
   "source": [
    "import pandas as pd"
   ]
  },
  {
   "cell_type": "code",
   "execution_count": 38,
   "id": "258c3520",
   "metadata": {},
   "outputs": [],
   "source": [
    "import requests"
   ]
  },
  {
   "cell_type": "code",
   "execution_count": 39,
   "id": "1fc1cf20",
   "metadata": {},
   "outputs": [],
   "source": [
    "import json"
   ]
  },
  {
   "cell_type": "code",
   "execution_count": 40,
   "id": "7e69df05",
   "metadata": {},
   "outputs": [],
   "source": [
    "result = requests.get('https://api.coindesk.com/v1/bpi/currentprice.json')"
   ]
  },
  {
   "cell_type": "code",
   "execution_count": 41,
   "id": "b62f3077",
   "metadata": {},
   "outputs": [
    {
     "data": {
      "text/plain": [
       "200"
      ]
     },
     "execution_count": 41,
     "metadata": {},
     "output_type": "execute_result"
    }
   ],
   "source": [
    "result.status_code"
   ]
  },
  {
   "cell_type": "code",
   "execution_count": 42,
   "id": "809b5d70",
   "metadata": {},
   "outputs": [
    {
     "data": {
      "text/plain": [
       "'{\"time\":{\"updated\":\"Aug 20, 2021 12:58:00 UTC\",\"updatedISO\":\"2021-08-20T12:58:00+00:00\",\"updateduk\":\"Aug 20, 2021 at 13:58 BST\"},\"disclaimer\":\"This data was produced from the CoinDesk Bitcoin Price Index (USD). Non-USD currency data converted using hourly conversion rate from openexchangerates.org\",\"chartName\":\"Bitcoin\",\"bpi\":{\"USD\":{\"code\":\"USD\",\"symbol\":\"&#36;\",\"rate\":\"47,136.7824\",\"description\":\"United States Dollar\",\"rate_float\":47136.7824},\"GBP\":{\"code\":\"GBP\",\"symbol\":\"&pound;\",\"rate\":\"34,627.2931\",\"description\":\"British Pound Sterling\",\"rate_float\":34627.2931},\"EUR\":{\"code\":\"EUR\",\"symbol\":\"&euro;\",\"rate\":\"40,396.7410\",\"description\":\"Euro\",\"rate_float\":40396.741}}}'"
      ]
     },
     "execution_count": 42,
     "metadata": {},
     "output_type": "execute_result"
    }
   ],
   "source": [
    "result.text"
   ]
  },
  {
   "cell_type": "code",
   "execution_count": 43,
   "id": "7f09f2e9",
   "metadata": {},
   "outputs": [],
   "source": [
    "bayo = result.json()"
   ]
  },
  {
   "cell_type": "code",
   "execution_count": 44,
   "id": "2026f6aa",
   "metadata": {},
   "outputs": [],
   "source": [
    "df = pd.json_normalize(bayo)"
   ]
  },
  {
   "cell_type": "code",
   "execution_count": 45,
   "id": "732abb9a",
   "metadata": {},
   "outputs": [
    {
     "data": {
      "text/html": [
       "<div>\n",
       "<style scoped>\n",
       "    .dataframe tbody tr th:only-of-type {\n",
       "        vertical-align: middle;\n",
       "    }\n",
       "\n",
       "    .dataframe tbody tr th {\n",
       "        vertical-align: top;\n",
       "    }\n",
       "\n",
       "    .dataframe thead th {\n",
       "        text-align: right;\n",
       "    }\n",
       "</style>\n",
       "<table border=\"1\" class=\"dataframe\">\n",
       "  <thead>\n",
       "    <tr style=\"text-align: right;\">\n",
       "      <th></th>\n",
       "      <th>disclaimer</th>\n",
       "      <th>chartName</th>\n",
       "      <th>time.updated</th>\n",
       "      <th>time.updatedISO</th>\n",
       "      <th>time.updateduk</th>\n",
       "      <th>bpi.USD.code</th>\n",
       "      <th>bpi.USD.symbol</th>\n",
       "      <th>bpi.USD.rate</th>\n",
       "      <th>bpi.USD.description</th>\n",
       "      <th>bpi.USD.rate_float</th>\n",
       "      <th>bpi.GBP.code</th>\n",
       "      <th>bpi.GBP.symbol</th>\n",
       "      <th>bpi.GBP.rate</th>\n",
       "      <th>bpi.GBP.description</th>\n",
       "      <th>bpi.GBP.rate_float</th>\n",
       "      <th>bpi.EUR.code</th>\n",
       "      <th>bpi.EUR.symbol</th>\n",
       "      <th>bpi.EUR.rate</th>\n",
       "      <th>bpi.EUR.description</th>\n",
       "      <th>bpi.EUR.rate_float</th>\n",
       "    </tr>\n",
       "  </thead>\n",
       "  <tbody>\n",
       "    <tr>\n",
       "      <th>0</th>\n",
       "      <td>This data was produced from the CoinDesk Bitco...</td>\n",
       "      <td>Bitcoin</td>\n",
       "      <td>Aug 20, 2021 12:58:00 UTC</td>\n",
       "      <td>2021-08-20T12:58:00+00:00</td>\n",
       "      <td>Aug 20, 2021 at 13:58 BST</td>\n",
       "      <td>USD</td>\n",
       "      <td>&amp;#36;</td>\n",
       "      <td>47,136.7824</td>\n",
       "      <td>United States Dollar</td>\n",
       "      <td>47136.7824</td>\n",
       "      <td>GBP</td>\n",
       "      <td>&amp;pound;</td>\n",
       "      <td>34,627.2931</td>\n",
       "      <td>British Pound Sterling</td>\n",
       "      <td>34627.2931</td>\n",
       "      <td>EUR</td>\n",
       "      <td>&amp;euro;</td>\n",
       "      <td>40,396.7410</td>\n",
       "      <td>Euro</td>\n",
       "      <td>40396.741</td>\n",
       "    </tr>\n",
       "  </tbody>\n",
       "</table>\n",
       "</div>"
      ],
      "text/plain": [
       "                                          disclaimer chartName  \\\n",
       "0  This data was produced from the CoinDesk Bitco...   Bitcoin   \n",
       "\n",
       "                time.updated            time.updatedISO  \\\n",
       "0  Aug 20, 2021 12:58:00 UTC  2021-08-20T12:58:00+00:00   \n",
       "\n",
       "              time.updateduk bpi.USD.code bpi.USD.symbol bpi.USD.rate  \\\n",
       "0  Aug 20, 2021 at 13:58 BST          USD          &#36;  47,136.7824   \n",
       "\n",
       "    bpi.USD.description  bpi.USD.rate_float bpi.GBP.code bpi.GBP.symbol  \\\n",
       "0  United States Dollar          47136.7824          GBP        &pound;   \n",
       "\n",
       "  bpi.GBP.rate     bpi.GBP.description  bpi.GBP.rate_float bpi.EUR.code  \\\n",
       "0  34,627.2931  British Pound Sterling          34627.2931          EUR   \n",
       "\n",
       "  bpi.EUR.symbol bpi.EUR.rate bpi.EUR.description  bpi.EUR.rate_float  \n",
       "0         &euro;  40,396.7410                Euro           40396.741  "
      ]
     },
     "execution_count": 45,
     "metadata": {},
     "output_type": "execute_result"
    }
   ],
   "source": [
    "df"
   ]
  },
  {
   "cell_type": "code",
   "execution_count": null,
   "id": "1af306d4",
   "metadata": {},
   "outputs": [],
   "source": []
  }
 ],
 "metadata": {
  "kernelspec": {
   "display_name": "Python 3",
   "language": "python",
   "name": "python3"
  },
  "language_info": {
   "codemirror_mode": {
    "name": "ipython",
    "version": 3
   },
   "file_extension": ".py",
   "mimetype": "text/x-python",
   "name": "python",
   "nbconvert_exporter": "python",
   "pygments_lexer": "ipython3",
   "version": "3.8.8"
  }
 },
 "nbformat": 4,
 "nbformat_minor": 5
}
