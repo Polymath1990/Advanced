{
 "cells": [
  {
   "cell_type": "code",
   "execution_count": 4,
   "id": "dd1bad1b",
   "metadata": {},
   "outputs": [],
   "source": [
    "import gzip\n",
    "import json"
   ]
  },
  {
   "cell_type": "code",
   "execution_count": 5,
   "id": "d0ca9f90",
   "metadata": {},
   "outputs": [],
   "source": [
    "import pyspark"
   ]
  },
  {
   "cell_type": "code",
   "execution_count": 6,
   "id": "4babd9eb",
   "metadata": {},
   "outputs": [],
   "source": [
    "df = spark.read.json(\"C:\\Users\\DELL LAPTOP\\posts.jsonl.gz\")\n",
    "df.printSchema()\n",
    "df.show()"
   ]
  },
  {
   "cell_type": "code",
   "execution_count": 8,
   "id": "5132569d",
   "metadata": {},
   "outputs": [],
   "source": [
    "dfe = spark.read.csv(\"C:\\Users\\DELL LAPTOP\\newprison.csv\")\n",
    "dfe.printSchema()\n",
    "dfe.show()"
   ]
  },
  {
   "cell_type": "code",
   "execution_count": 10,
   "id": "33e13532",
   "metadata": {},
   "outputs": [],
   "source": [
    "dfe.collect"
   ]
  },
  {
   "cell_type": "code",
   "execution_count": 3,
   "id": "18f0345a",
   "metadata": {},
   "outputs": [],
   "source": [
    "import pandas as pd"
   ]
  },
  {
   "cell_type": "code",
   "execution_count": 11,
   "id": "5bad378b",
   "metadata": {},
   "outputs": [],
   "source": [
    "ayoh = pd.read_csv('prison.csv')"
   ]
  },
  {
   "cell_type": "code",
   "execution_count": 12,
   "id": "ffe43099",
   "metadata": {},
   "outputs": [],
   "source": [
    "ayoh"
   ]
  },
  {
   "cell_type": "code",
   "execution_count": 4,
   "id": "d5d057ec",
   "metadata": {},
   "outputs": [],
   "source": [
    "with gzip.open(\"posts.jsonl.gz\", \"rb\") as f:\n",
    "    data = json.loads(f.read(), encoding=\"utf-8\")"
   ]
  },
  {
   "cell_type": "code",
   "execution_count": 6,
   "id": "e0c01922",
   "metadata": {},
   "outputs": [],
   "source": [
    "bayo = data"
   ]
  },
  {
   "cell_type": "code",
   "execution_count": 7,
   "id": "42b4b3ea",
   "metadata": {},
   "outputs": [],
   "source": [
    "bayo"
   ]
  },
  {
   "cell_type": "code",
   "execution_count": null,
   "id": "8647d668",
   "metadata": {},
   "outputs": [],
   "source": [
    "with gzip.open(post.jsonl.tar.gz, 'w') as fout:\n",
    "    fout.write(json.dumps(data).encode('utf-8'))"
   ]
  },
  {
   "cell_type": "code",
   "execution_count": null,
   "id": "b60df0e3",
   "metadata": {},
   "outputs": [],
   "source": []
  },
  {
   "cell_type": "code",
   "execution_count": 8,
   "id": "f83b873d",
   "metadata": {},
   "outputs": [],
   "source": [
    "bayo_file = gzip.open(\"posts.jsonl.gz\", \"rb\")\n",
    "contents = bayo_file.read()"
   ]
  },
  {
   "cell_type": "code",
   "execution_count": 9,
   "id": "90135bf5",
   "metadata": {},
   "outputs": [],
   "source": [
    "contents"
   ]
  },
  {
   "cell_type": "code",
   "execution_count": 10,
   "id": "6177715d",
   "metadata": {},
   "outputs": [],
   "source": [
    "df = pd.json_normalize(contents)"
   ]
  },
  {
   "cell_type": "code",
   "execution_count": 11,
   "id": "9ca07de8",
   "metadata": {},
   "outputs": [],
   "source": [
    "df"
   ]
  },
  {
   "cell_type": "code",
   "execution_count": null,
   "id": "e526d91f",
   "metadata": {},
   "outputs": [],
   "source": []
  }
 ],
 "metadata": {
  "kernelspec": {
   "display_name": "Python 3",
   "language": "python",
   "name": "python3"
  },
  "language_info": {
   "codemirror_mode": {
    "name": "ipython",
    "version": 3
   },
   "file_extension": ".py",
   "mimetype": "text/x-python",
   "name": "python",
   "nbconvert_exporter": "python",
   "pygments_lexer": "ipython3",
   "version": "3.8.8"
  }
 },
 "nbformat": 4,
 "nbformat_minor": 5
}
