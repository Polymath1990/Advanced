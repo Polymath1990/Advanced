{
 "cells": [
  {
   "cell_type": "code",
   "execution_count": 1,
   "id": "ce915797",
   "metadata": {},
   "outputs": [
    {
     "data": {
      "text/plain": [
       "'C:\\\\Spark\\\\spark-3.1.2-bin-hadoop3.2'"
      ]
     },
     "execution_count": 1,
     "metadata": {},
     "output_type": "execute_result"
    }
   ],
   "source": [
    "import findspark\n",
    "findspark.init()\n",
    "findspark.find()"
   ]
  },
  {
   "cell_type": "code",
   "execution_count": 2,
   "id": "384509e7",
   "metadata": {},
   "outputs": [],
   "source": [
    "import pyspark"
   ]
  },
  {
   "cell_type": "code",
   "execution_count": 3,
   "id": "194a672e",
   "metadata": {},
   "outputs": [],
   "source": [
    "from pyspark import SparkContext\n",
    "sc = SparkContext(\"local\",\"bayo\")"
   ]
  },
  {
   "cell_type": "code",
   "execution_count": 4,
   "id": "cabf561d",
   "metadata": {},
   "outputs": [
    {
     "data": {
      "text/plain": [
       "[25, 100, 225, 400]"
      ]
     },
     "execution_count": 4,
     "metadata": {},
     "output_type": "execute_result"
    }
   ],
   "source": [
    "data = sc.parallelize([5,10,15,20])\n",
    "type(data)\n",
    "data.map(lambda x:x*x).collect()"
   ]
  },
  {
   "cell_type": "code",
   "execution_count": 5,
   "id": "b2a9776c",
   "metadata": {},
   "outputs": [],
   "source": [
    "from pyspark.context import SparkContext\n",
    "from pyspark.sql.session import SparkSession\n",
    "sc = SparkContext.getOrCreate()\n",
    "spark = SparkSession(sc)"
   ]
  },
  {
   "cell_type": "code",
   "execution_count": 7,
   "id": "e659939d",
   "metadata": {},
   "outputs": [
    {
     "name": "stdout",
     "output_type": "stream",
     "text": [
      "root\n",
      " |-- author: string (nullable = true)\n",
      " |-- author_id: long (nullable = true)\n",
      " |-- author_login: string (nullable = true)\n",
      " |-- blog_id: long (nullable = true)\n",
      " |-- comment_count: string (nullable = true)\n",
      " |-- commenter_ids: array (nullable = true)\n",
      " |    |-- element: long (containsNull = true)\n",
      " |-- content: string (nullable = true)\n",
      " |-- date_gmt: string (nullable = true)\n",
      " |-- lang: string (nullable = true)\n",
      " |-- like_count: long (nullable = true)\n",
      " |-- liker_ids: array (nullable = true)\n",
      " |    |-- element: long (containsNull = true)\n",
      " |-- post_id: long (nullable = true)\n",
      " |-- title: string (nullable = true)\n",
      " |-- url: string (nullable = true)\n",
      "\n",
      "+----------+---------+------------+-------+-------------+-------------+--------------------+-------------------+----+----------+---------+-------+--------------------+--------------------+\n",
      "|    author|author_id|author_login|blog_id|comment_count|commenter_ids|             content|           date_gmt|lang|like_count|liker_ids|post_id|               title|                 url|\n",
      "+----------+---------+------------+-------+-------------+-------------+--------------------+-------------------+----+----------+---------+-------+--------------------+--------------------+\n",
      "|jasontromm|      762|  jasontromm|    753|            0|         null|The Snap! Jamaal ...|2009-12-31 16:27:39|  en|         0|     null|    969|Biggest Challenge...|jasontromm.wordpr...|\n",
      "|jasontromm|      762|  jasontromm|    753|            0|         null|\n",
      "\n",
      "\n",
      "\n",
      "Penguins!...|2010-01-06 14:48:55|  en|         0|     null|    970|  My Newest Cube Toy|jasontromm.wordpr...|\n",
      "|jasontromm|      762|  jasontromm|    753|            0|         null|\n",
      "\n",
      "\n",
      "Donovan McN...|2010-01-11 16:48:34|  en|         0|     null|    971|Time to put McNab...|jasontromm.wordpr...|\n",
      "|jasontromm|      762|  jasontromm|    753|            0|         null|\n",
      "If you think th...|2010-01-20 17:07:21|  en|         0|     null|    977|Republican Hypocr...|jasontromm.wordpr...|\n",
      "|jasontromm|      762|  jasontromm|    753|            0|         null|\n",
      "If I was a Demo...|2010-01-20 19:42:44|  en|         0|     null|    978|Obama's Campaign ...|jasontromm.wordpr...|\n",
      "|jasontromm|      762|  jasontromm|    753|            0|         null|Obama&#39;s State...|2010-01-28 13:38:14|  en|         0|     null|    991|Obama's Arrogance...|jasontromm.wordpr...|\n",
      "|jasontromm|      762|  jasontromm|    753|            0|         null|In an extremely w...|2010-01-28 13:49:12|  en|         0|     null|    992|Jim DeMint should...|jasontromm.wordpr...|\n",
      "|jasontromm|      762|  jasontromm|    753|            0|         null|My whole family c...|2010-02-07 23:57:32|  en|         0|     null|    993|I'm much tougher ...|jasontromm.wordpr...|\n",
      "|jasontromm|      762|  jasontromm|    753|            1|         null|They did pretty g...|2010-02-08 01:36:53|  en|         0|     null|    994|The Who's Superco...|jasontromm.wordpr...|\n",
      "|jasontromm|      762|  jasontromm|    753|            0|         null|   Darling and Monty|2010-02-08 03:56:43|  en|         0|     null|    995|                    |jasontromm.wordpr...|\n",
      "|jasontromm|      762|  jasontromm|    753|            0|         null|Our HouseSnow on ...|2010-02-13 16:06:27|  en|         0|     null|    996|                    |jasontromm.wordpr...|\n",
      "|jasontromm|      762|  jasontromm|    753|            0|         null|    Bug-Eyed Snowman|2010-02-13 17:26:20|  en|         0|     null|    997|                    |jasontromm.wordpr...|\n",
      "|jasontromm|      762|  jasontromm|    753|            0|         null|I&#39;ve seen sev...|2010-02-16 18:45:50|  en|         0|     null|    998| Origins of Biathlon|jasontromm.wordpr...|\n",
      "|jasontromm|      762|  jasontromm|    753|            1|         null|Let Freedom Ring ...|2010-02-17 14:37:33|  en|         0|     null|    999|What is the Tea P...|jasontromm.wordpr...|\n",
      "|jasontromm|      762|  jasontromm|    753|            0|         null| \"Our people look...|2010-02-22 15:14:55|  en|         0|     null|   1000|     Sound Familiar?|jasontromm.wordpr...|\n",
      "|jasontromm|      762|  jasontromm|    753|            0|         null|and all the polle...|2010-03-09 18:04:22|  en|         0|     null|   1001|      Spring is here|jasontromm.wordpr...|\n",
      "|jasontromm|      762|  jasontromm|    753|            0|         null| <rant>We lose an...|2010-03-15 14:24:28|  en|         0|     null|   1002|         I Hate DST!|jasontromm.wordpr...|\n",
      "|jasontromm|      762|  jasontromm|    753|            0|         null| ...but I don&#39...|2010-03-22 15:01:58|  en|         0|     null|   1003|It's the End of t...|jasontromm.wordpr...|\n",
      "|jasontromm|      762|  jasontromm|    753|            0|         null|At the close of t...|2010-03-22 22:33:47|  en|         0|     null|   1004|We Have Lost Our ...|jasontromm.wordpr...|\n",
      "|jasontromm|      762|  jasontromm|    753|            0|         null|                    |2010-03-27 20:27:22|  en|         0|     null|   1005|Chocolate Covered...|jasontromm.wordpr...|\n",
      "+----------+---------+------------+-------+-------------+-------------+--------------------+-------------------+----+----------+---------+-------+--------------------+--------------------+\n",
      "only showing top 20 rows\n",
      "\n"
     ]
    }
   ],
   "source": [
    "df = spark.read.json(r\"C:\\Users\\DELL LAPTOP\\posts.jsonl.gz\")\n",
    "df.printSchema()\n",
    "df.show()"
   ]
  },
  {
   "cell_type": "code",
   "execution_count": null,
   "id": "26f27e0a",
   "metadata": {},
   "outputs": [],
   "source": []
  }
 ],
 "metadata": {
  "kernelspec": {
   "display_name": "Python 3",
   "language": "python",
   "name": "python3"
  },
  "language_info": {
   "codemirror_mode": {
    "name": "ipython",
    "version": 3
   },
   "file_extension": ".py",
   "mimetype": "text/x-python",
   "name": "python",
   "nbconvert_exporter": "python",
   "pygments_lexer": "ipython3",
   "version": "3.8.8"
  }
 },
 "nbformat": 4,
 "nbformat_minor": 5
}
